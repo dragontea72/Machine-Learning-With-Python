{
  "nbformat": 4,
  "nbformat_minor": 0,
  "metadata": {
    "colab": {
      "name": "hyundai_car_price_ML",
      "provenance": []
    },
    "kernelspec": {
      "name": "python3",
      "display_name": "Python 3"
    },
    "language_info": {
      "name": "python"
    }
  },
  "cells": [
    {
      "cell_type": "markdown",
      "metadata": {
        "id": "G904Nczoe5qX"
      },
      "source": [
        "**Author**: Riadul Islam Rabbi"
      ]
    },
    {
      "cell_type": "markdown",
      "metadata": {
        "id": "3dtSS53EfCkL"
      },
      "source": [
        "<h1><center> Hyundai Car Price Prediction Using ML</center></h1>"
      ]
    },
    {
      "cell_type": "markdown",
      "metadata": {
        "id": "nU_YKooPfUOq"
      },
      "source": [
        "### Hyundai Car Dataset From Kaggle\n",
        "-------------------------------------------------------------------------------------------------------------------------------"
      ]
    },
    {
      "cell_type": "markdown",
      "metadata": {
        "id": "u2rJ8EYbgIGN"
      },
      "source": [
        "## Importing Libraries"
      ]
    },
    {
      "cell_type": "code",
      "metadata": {
        "id": "qUjwyzzagVzD"
      },
      "source": [
        "import warnings\n",
        "warnings.filterwarnings(\"ignore\")\n",
        "\n",
        "import numpy as np\n",
        "import pandas as pd\n",
        "import matplotlib.pyplot as plt\n",
        "\n",
        "from sklearn.model_selection import train_test_split\n",
        "from sklearn.linear_model import LinearRegression\n",
        "from sklearn.metrics import mean_squared_error"
      ],
      "execution_count": 46,
      "outputs": []
    },
    {
      "cell_type": "markdown",
      "metadata": {
        "id": "PV_oMYpRfkb-"
      },
      "source": [
        "#Load the dataset"
      ]
    },
    {
      "cell_type": "code",
      "metadata": {
        "id": "WfQaFLcreDBk"
      },
      "source": [
        "df_hyundai_data = pd.read_csv(\"https://raw.githubusercontent.com/SKawsar/Data_Visualization_with_Python/main/hyundai.csv\")"
      ],
      "execution_count": 2,
      "outputs": []
    },
    {
      "cell_type": "markdown",
      "metadata": {
        "id": "dDi6SP_mioIL"
      },
      "source": [
        "##Views Data"
      ]
    },
    {
      "cell_type": "code",
      "metadata": {
        "colab": {
          "base_uri": "https://localhost:8080/",
          "height": 204
        },
        "id": "gfSTcM4Mim-Z",
        "outputId": "07d7ba2a-5c32-41c7-92cd-07c76fe36c5a"
      },
      "source": [
        "df_hyundai_data.head()"
      ],
      "execution_count": 3,
      "outputs": [
        {
          "output_type": "execute_result",
          "data": {
            "text/html": [
              "<div>\n",
              "<style scoped>\n",
              "    .dataframe tbody tr th:only-of-type {\n",
              "        vertical-align: middle;\n",
              "    }\n",
              "\n",
              "    .dataframe tbody tr th {\n",
              "        vertical-align: top;\n",
              "    }\n",
              "\n",
              "    .dataframe thead th {\n",
              "        text-align: right;\n",
              "    }\n",
              "</style>\n",
              "<table border=\"1\" class=\"dataframe\">\n",
              "  <thead>\n",
              "    <tr style=\"text-align: right;\">\n",
              "      <th></th>\n",
              "      <th>model</th>\n",
              "      <th>year</th>\n",
              "      <th>price</th>\n",
              "      <th>transmission</th>\n",
              "      <th>mileage</th>\n",
              "      <th>fuelType</th>\n",
              "      <th>mpg</th>\n",
              "      <th>engineSize</th>\n",
              "    </tr>\n",
              "  </thead>\n",
              "  <tbody>\n",
              "    <tr>\n",
              "      <th>0</th>\n",
              "      <td>I20</td>\n",
              "      <td>2017</td>\n",
              "      <td>7999</td>\n",
              "      <td>Manual</td>\n",
              "      <td>17307</td>\n",
              "      <td>Petrol</td>\n",
              "      <td>58.9</td>\n",
              "      <td>1.2</td>\n",
              "    </tr>\n",
              "    <tr>\n",
              "      <th>1</th>\n",
              "      <td>Tucson</td>\n",
              "      <td>2016</td>\n",
              "      <td>14499</td>\n",
              "      <td>Automatic</td>\n",
              "      <td>25233</td>\n",
              "      <td>Diesel</td>\n",
              "      <td>43.5</td>\n",
              "      <td>2.0</td>\n",
              "    </tr>\n",
              "    <tr>\n",
              "      <th>2</th>\n",
              "      <td>Tucson</td>\n",
              "      <td>2016</td>\n",
              "      <td>11399</td>\n",
              "      <td>Manual</td>\n",
              "      <td>37877</td>\n",
              "      <td>Diesel</td>\n",
              "      <td>61.7</td>\n",
              "      <td>1.7</td>\n",
              "    </tr>\n",
              "    <tr>\n",
              "      <th>3</th>\n",
              "      <td>I10</td>\n",
              "      <td>2016</td>\n",
              "      <td>6499</td>\n",
              "      <td>Manual</td>\n",
              "      <td>23789</td>\n",
              "      <td>Petrol</td>\n",
              "      <td>60.1</td>\n",
              "      <td>1.0</td>\n",
              "    </tr>\n",
              "    <tr>\n",
              "      <th>4</th>\n",
              "      <td>IX35</td>\n",
              "      <td>2015</td>\n",
              "      <td>10199</td>\n",
              "      <td>Manual</td>\n",
              "      <td>33177</td>\n",
              "      <td>Diesel</td>\n",
              "      <td>51.4</td>\n",
              "      <td>2.0</td>\n",
              "    </tr>\n",
              "  </tbody>\n",
              "</table>\n",
              "</div>"
            ],
            "text/plain": [
              "     model  year  price transmission  mileage fuelType   mpg  engineSize\n",
              "0      I20  2017   7999       Manual    17307   Petrol  58.9         1.2\n",
              "1   Tucson  2016  14499    Automatic    25233   Diesel  43.5         2.0\n",
              "2   Tucson  2016  11399       Manual    37877   Diesel  61.7         1.7\n",
              "3      I10  2016   6499       Manual    23789   Petrol  60.1         1.0\n",
              "4     IX35  2015  10199       Manual    33177   Diesel  51.4         2.0"
            ]
          },
          "metadata": {},
          "execution_count": 3
        }
      ]
    },
    {
      "cell_type": "code",
      "metadata": {
        "colab": {
          "base_uri": "https://localhost:8080/",
          "height": 204
        },
        "id": "CGinNVy5isre",
        "outputId": "36156b7a-fdc5-4eda-8078-2aaaec8123cb"
      },
      "source": [
        "df_hyundai_data.tail()"
      ],
      "execution_count": 4,
      "outputs": [
        {
          "output_type": "execute_result",
          "data": {
            "text/html": [
              "<div>\n",
              "<style scoped>\n",
              "    .dataframe tbody tr th:only-of-type {\n",
              "        vertical-align: middle;\n",
              "    }\n",
              "\n",
              "    .dataframe tbody tr th {\n",
              "        vertical-align: top;\n",
              "    }\n",
              "\n",
              "    .dataframe thead th {\n",
              "        text-align: right;\n",
              "    }\n",
              "</style>\n",
              "<table border=\"1\" class=\"dataframe\">\n",
              "  <thead>\n",
              "    <tr style=\"text-align: right;\">\n",
              "      <th></th>\n",
              "      <th>model</th>\n",
              "      <th>year</th>\n",
              "      <th>price</th>\n",
              "      <th>transmission</th>\n",
              "      <th>mileage</th>\n",
              "      <th>fuelType</th>\n",
              "      <th>mpg</th>\n",
              "      <th>engineSize</th>\n",
              "    </tr>\n",
              "  </thead>\n",
              "  <tbody>\n",
              "    <tr>\n",
              "      <th>4855</th>\n",
              "      <td>I30</td>\n",
              "      <td>2016</td>\n",
              "      <td>8680</td>\n",
              "      <td>Manual</td>\n",
              "      <td>25906</td>\n",
              "      <td>Diesel</td>\n",
              "      <td>78.4</td>\n",
              "      <td>1.6</td>\n",
              "    </tr>\n",
              "    <tr>\n",
              "      <th>4856</th>\n",
              "      <td>I40</td>\n",
              "      <td>2015</td>\n",
              "      <td>7830</td>\n",
              "      <td>Manual</td>\n",
              "      <td>59508</td>\n",
              "      <td>Diesel</td>\n",
              "      <td>65.7</td>\n",
              "      <td>1.7</td>\n",
              "    </tr>\n",
              "    <tr>\n",
              "      <th>4857</th>\n",
              "      <td>I10</td>\n",
              "      <td>2017</td>\n",
              "      <td>6830</td>\n",
              "      <td>Manual</td>\n",
              "      <td>13810</td>\n",
              "      <td>Petrol</td>\n",
              "      <td>60.1</td>\n",
              "      <td>1.0</td>\n",
              "    </tr>\n",
              "    <tr>\n",
              "      <th>4858</th>\n",
              "      <td>Tucson</td>\n",
              "      <td>2018</td>\n",
              "      <td>13994</td>\n",
              "      <td>Manual</td>\n",
              "      <td>23313</td>\n",
              "      <td>Petrol</td>\n",
              "      <td>44.8</td>\n",
              "      <td>1.6</td>\n",
              "    </tr>\n",
              "    <tr>\n",
              "      <th>4859</th>\n",
              "      <td>Tucson</td>\n",
              "      <td>2016</td>\n",
              "      <td>15999</td>\n",
              "      <td>Automatic</td>\n",
              "      <td>11472</td>\n",
              "      <td>Diesel</td>\n",
              "      <td>57.6</td>\n",
              "      <td>1.7</td>\n",
              "    </tr>\n",
              "  </tbody>\n",
              "</table>\n",
              "</div>"
            ],
            "text/plain": [
              "        model  year  price transmission  mileage fuelType   mpg  engineSize\n",
              "4855      I30  2016   8680       Manual    25906   Diesel  78.4         1.6\n",
              "4856      I40  2015   7830       Manual    59508   Diesel  65.7         1.7\n",
              "4857      I10  2017   6830       Manual    13810   Petrol  60.1         1.0\n",
              "4858   Tucson  2018  13994       Manual    23313   Petrol  44.8         1.6\n",
              "4859   Tucson  2016  15999    Automatic    11472   Diesel  57.6         1.7"
            ]
          },
          "metadata": {},
          "execution_count": 4
        }
      ]
    },
    {
      "cell_type": "code",
      "metadata": {
        "colab": {
          "base_uri": "https://localhost:8080/"
        },
        "id": "-JAeKyMSixR5",
        "outputId": "f9986fce-c681-4bee-b88f-1b2d3da448bd"
      },
      "source": [
        "df_hyundai_data.shape"
      ],
      "execution_count": 5,
      "outputs": [
        {
          "output_type": "execute_result",
          "data": {
            "text/plain": [
              "(4860, 8)"
            ]
          },
          "metadata": {},
          "execution_count": 5
        }
      ]
    },
    {
      "cell_type": "markdown",
      "metadata": {
        "id": "9ID8VkOajkkk"
      },
      "source": [
        "There are no missing values in hyundai dataset."
      ]
    },
    {
      "cell_type": "code",
      "metadata": {
        "colab": {
          "base_uri": "https://localhost:8080/"
        },
        "id": "Lix8XoUri1ud",
        "outputId": "134df5dc-414f-4810-8808-c6b00c0f309a"
      },
      "source": [
        "df_hyundai_data.isnull().sum()"
      ],
      "execution_count": 6,
      "outputs": [
        {
          "output_type": "execute_result",
          "data": {
            "text/plain": [
              "model           0\n",
              "year            0\n",
              "price           0\n",
              "transmission    0\n",
              "mileage         0\n",
              "fuelType        0\n",
              "mpg             0\n",
              "engineSize      0\n",
              "dtype: int64"
            ]
          },
          "metadata": {},
          "execution_count": 6
        }
      ]
    },
    {
      "cell_type": "markdown",
      "metadata": {
        "id": "tcMnfi-Oj6Hx"
      },
      "source": [
        "We see from this data 4860 instances and 8 attributes. 2 columns `float64`, 3 columns `int64` 3 columns `object`"
      ]
    },
    {
      "cell_type": "code",
      "metadata": {
        "colab": {
          "base_uri": "https://localhost:8080/"
        },
        "id": "pKn-x3Kfi6_6",
        "outputId": "8a8b2b8a-3e9b-49bc-ff49-f1b37811f21a"
      },
      "source": [
        "df_hyundai_data.info()"
      ],
      "execution_count": 7,
      "outputs": [
        {
          "output_type": "stream",
          "name": "stdout",
          "text": [
            "<class 'pandas.core.frame.DataFrame'>\n",
            "RangeIndex: 4860 entries, 0 to 4859\n",
            "Data columns (total 8 columns):\n",
            " #   Column        Non-Null Count  Dtype  \n",
            "---  ------        --------------  -----  \n",
            " 0   model         4860 non-null   object \n",
            " 1   year          4860 non-null   int64  \n",
            " 2   price         4860 non-null   int64  \n",
            " 3   transmission  4860 non-null   object \n",
            " 4   mileage       4860 non-null   int64  \n",
            " 5   fuelType      4860 non-null   object \n",
            " 6   mpg           4860 non-null   float64\n",
            " 7   engineSize    4860 non-null   float64\n",
            "dtypes: float64(2), int64(3), object(3)\n",
            "memory usage: 303.9+ KB\n"
          ]
        }
      ]
    },
    {
      "cell_type": "markdown",
      "metadata": {
        "id": "qpydUNHbksRQ"
      },
      "source": [
        "##Separating the numeric features and target variable,"
      ]
    },
    {
      "cell_type": "code",
      "metadata": {
        "id": "TS3byweVjd_w"
      },
      "source": [
        "X = df_hyundai_data[['mileage']] # feature data\n",
        "y = df_hyundai_data[\"price\"] # target data"
      ],
      "execution_count": 36,
      "outputs": []
    },
    {
      "cell_type": "markdown",
      "metadata": {
        "id": "zSd0VMqHlWj7"
      },
      "source": [
        "##Split the original dataset into the train set (80%) and the test set (20%), "
      ]
    },
    {
      "cell_type": "code",
      "metadata": {
        "colab": {
          "base_uri": "https://localhost:8080/"
        },
        "id": "ucYEkBGklK_I",
        "outputId": "6b75c4dd-850d-423b-c927-5d0d3b48d269"
      },
      "source": [
        "X_train, X_test, y_train, y_test = train_test_split(X, y, train_size = 0.80, test_size = 0.20, random_state = 102)\n",
        "print(\"X_train: \", X_train.shape)\n",
        "print(\"X_test : \", X_test.shape)\n",
        "print(\"y_train: \", y_train.shape)\n",
        "print(\"y_test: \", y_test.shape)"
      ],
      "execution_count": 37,
      "outputs": [
        {
          "output_type": "stream",
          "name": "stdout",
          "text": [
            "X_train:  (3888, 1)\n",
            "X_test :  (972, 1)\n",
            "y_train:  (3888,)\n",
            "y_test:  (972,)\n"
          ]
        }
      ]
    },
    {
      "cell_type": "markdown",
      "metadata": {
        "id": "VtCl7GrBmxps"
      },
      "source": [
        "##Perform Simple Linear Regression and Predict the 'Price' from the test set, "
      ]
    },
    {
      "cell_type": "markdown",
      "metadata": {
        "id": "VJFOSsBMoqKE"
      },
      "source": [
        "### Feed the model"
      ]
    },
    {
      "cell_type": "code",
      "metadata": {
        "colab": {
          "base_uri": "https://localhost:8080/"
        },
        "id": "Wbpr8F6dlMzI",
        "outputId": "a68c6d6f-06e1-429d-b22f-d3643c9029b6"
      },
      "source": [
        "LR = LinearRegression()\n",
        "LR.fit(X_train, y_train)"
      ],
      "execution_count": 38,
      "outputs": [
        {
          "output_type": "execute_result",
          "data": {
            "text/plain": [
              "LinearRegression(copy_X=True, fit_intercept=True, n_jobs=None, normalize=False)"
            ]
          },
          "metadata": {},
          "execution_count": 38
        }
      ]
    },
    {
      "cell_type": "markdown",
      "metadata": {
        "id": "aUkd97coozjk"
      },
      "source": [
        "###Predict the price"
      ]
    },
    {
      "cell_type": "code",
      "metadata": {
        "id": "CcuQttCboy1J"
      },
      "source": [
        "y_pred = LR.predict(X_test)"
      ],
      "execution_count": 39,
      "outputs": []
    },
    {
      "cell_type": "code",
      "metadata": {
        "colab": {
          "base_uri": "https://localhost:8080/"
        },
        "id": "GNa53oFLqraF",
        "outputId": "181cbe36-81c8-47cc-fec6-8036a840bec1"
      },
      "source": [
        "y_pred[0:10]"
      ],
      "execution_count": 40,
      "outputs": [
        {
          "output_type": "execute_result",
          "data": {
            "text/plain": [
              "array([14926.38486669, 14984.2597343 , 14675.29234212, 15534.37240819,\n",
              "       13612.5952288 , 15963.91244123, 15985.01265338, 14919.90408725,\n",
              "       13988.93258406, 13105.43655821])"
            ]
          },
          "metadata": {},
          "execution_count": 40
        }
      ]
    },
    {
      "cell_type": "code",
      "metadata": {
        "colab": {
          "base_uri": "https://localhost:8080/"
        },
        "id": "Gd2C6ayas5e4",
        "outputId": "161327f4-5224-4ea1-ef1e-296c426fcb79"
      },
      "source": [
        "y_test[0:10]"
      ],
      "execution_count": 41,
      "outputs": [
        {
          "output_type": "execute_result",
          "data": {
            "text/plain": [
              "825     13485\n",
              "4211     7795\n",
              "1782    19894\n",
              "3450    25000\n",
              "196     15498\n",
              "2862    23995\n",
              "2175     9989\n",
              "4117    10495\n",
              "261     14698\n",
              "1616     6290\n",
              "Name: price, dtype: int64"
            ]
          },
          "metadata": {},
          "execution_count": 41
        }
      ]
    },
    {
      "cell_type": "markdown",
      "metadata": {
        "id": "OvEVT6CBpEOe"
      },
      "source": [
        "## Difference between actual and predicted price"
      ]
    },
    {
      "cell_type": "code",
      "metadata": {
        "colab": {
          "base_uri": "https://localhost:8080/",
          "height": 204
        },
        "id": "DCN3KZuTtCo-",
        "outputId": "6c8da07c-64c1-4ef7-8314-a178342e8602"
      },
      "source": [
        "hyundai_dif_price_data = pd.DataFrame({'Actual Data': y_test, 'Predicted Price' : y_pred, 'Difference Price': (y_pred - y_test)})\n",
        "hyundai_dif_price_data.head()"
      ],
      "execution_count": 44,
      "outputs": [
        {
          "output_type": "execute_result",
          "data": {
            "text/html": [
              "<div>\n",
              "<style scoped>\n",
              "    .dataframe tbody tr th:only-of-type {\n",
              "        vertical-align: middle;\n",
              "    }\n",
              "\n",
              "    .dataframe tbody tr th {\n",
              "        vertical-align: top;\n",
              "    }\n",
              "\n",
              "    .dataframe thead th {\n",
              "        text-align: right;\n",
              "    }\n",
              "</style>\n",
              "<table border=\"1\" class=\"dataframe\">\n",
              "  <thead>\n",
              "    <tr style=\"text-align: right;\">\n",
              "      <th></th>\n",
              "      <th>Actual Data</th>\n",
              "      <th>Predicted Price</th>\n",
              "      <th>Difference Price</th>\n",
              "    </tr>\n",
              "  </thead>\n",
              "  <tbody>\n",
              "    <tr>\n",
              "      <th>825</th>\n",
              "      <td>13485</td>\n",
              "      <td>14926.384867</td>\n",
              "      <td>1441.384867</td>\n",
              "    </tr>\n",
              "    <tr>\n",
              "      <th>4211</th>\n",
              "      <td>7795</td>\n",
              "      <td>14984.259734</td>\n",
              "      <td>7189.259734</td>\n",
              "    </tr>\n",
              "    <tr>\n",
              "      <th>1782</th>\n",
              "      <td>19894</td>\n",
              "      <td>14675.292342</td>\n",
              "      <td>-5218.707658</td>\n",
              "    </tr>\n",
              "    <tr>\n",
              "      <th>3450</th>\n",
              "      <td>25000</td>\n",
              "      <td>15534.372408</td>\n",
              "      <td>-9465.627592</td>\n",
              "    </tr>\n",
              "    <tr>\n",
              "      <th>196</th>\n",
              "      <td>15498</td>\n",
              "      <td>13612.595229</td>\n",
              "      <td>-1885.404771</td>\n",
              "    </tr>\n",
              "  </tbody>\n",
              "</table>\n",
              "</div>"
            ],
            "text/plain": [
              "      Actual Data  Predicted Price  Difference Price\n",
              "825         13485     14926.384867       1441.384867\n",
              "4211         7795     14984.259734       7189.259734\n",
              "1782        19894     14675.292342      -5218.707658\n",
              "3450        25000     15534.372408      -9465.627592\n",
              "196         15498     13612.595229      -1885.404771"
            ]
          },
          "metadata": {},
          "execution_count": 44
        }
      ]
    },
    {
      "cell_type": "markdown",
      "metadata": {
        "id": "t2zdqoVunYz_"
      },
      "source": [
        "##Find the RMSE value from the actual test data and the predicted data."
      ]
    },
    {
      "cell_type": "code",
      "metadata": {
        "colab": {
          "base_uri": "https://localhost:8080/"
        },
        "id": "iWoIJz2qnABp",
        "outputId": "9c0856a5-f7b3-4e7e-cfdf-77960356c813"
      },
      "source": [
        "RMSE = mean_squared_error(y_test, y_pred, squared= True)\n",
        "print(\"RMSE : \", RMSE)"
      ],
      "execution_count": 47,
      "outputs": [
        {
          "output_type": "stream",
          "name": "stdout",
          "text": [
            "RMSE :  27049432.75552336\n"
          ]
        }
      ]
    },
    {
      "cell_type": "markdown",
      "metadata": {
        "id": "STbrF3ib2dwS"
      },
      "source": [
        "#Perform Multiple Linear Regression and Predict the 'Price' from the test set"
      ]
    },
    {
      "cell_type": "code",
      "metadata": {
        "id": "04DcxDivyi5V"
      },
      "source": [
        "X = df_hyundai_data[['mileage', 'mpg', 'engineSize']]# feature data\n",
        "y = df_hyundai_data[\"price\"] # target data"
      ],
      "execution_count": 50,
      "outputs": []
    },
    {
      "cell_type": "code",
      "metadata": {
        "colab": {
          "base_uri": "https://localhost:8080/"
        },
        "id": "GmTOwlLb5v4P",
        "outputId": "e1d30615-2122-4cf9-c391-d6c7e4463b7a"
      },
      "source": [
        "X_train, X_test, y_train, y_test = train_test_split(X, y, train_size = 0.80, test_size = 0.20, random_state = 102)\n",
        "print(\"X_train: \", X_train.shape)\n",
        "print(\"X_test : \", X_test.shape)\n",
        "print(\"y_train: \", y_train.shape)\n",
        "print(\"y_test: \", y_test.shape)"
      ],
      "execution_count": 51,
      "outputs": [
        {
          "output_type": "stream",
          "name": "stdout",
          "text": [
            "X_train:  (3888, 3)\n",
            "X_test :  (972, 3)\n",
            "y_train:  (3888,)\n",
            "y_test:  (972,)\n"
          ]
        }
      ]
    },
    {
      "cell_type": "code",
      "metadata": {
        "id": "hZmuSBKE6anm"
      },
      "source": [
        "multiple_LR = LinearRegression()\n",
        "multiple_LR.fit(X_train, y_train)\n",
        "\n",
        "y_pred_mlr = multiple_LR.predict(X_test)\n"
      ],
      "execution_count": 52,
      "outputs": []
    },
    {
      "cell_type": "code",
      "metadata": {
        "colab": {
          "base_uri": "https://localhost:8080/",
          "height": 204
        },
        "id": "IxoqCdGZ7D2U",
        "outputId": "4a9c75bb-9f52-4c3d-a365-2bc579b6d7a5"
      },
      "source": [
        "hyundai_dif_price_data_mlr = pd.DataFrame({'Actual Data': y_test, 'Predicted Price' : y_pred_mlr, 'Difference Price': (y_pred_mlr - y_test)})\n",
        "hyundai_dif_price_data_mlr.head()"
      ],
      "execution_count": 53,
      "outputs": [
        {
          "output_type": "execute_result",
          "data": {
            "text/html": [
              "<div>\n",
              "<style scoped>\n",
              "    .dataframe tbody tr th:only-of-type {\n",
              "        vertical-align: middle;\n",
              "    }\n",
              "\n",
              "    .dataframe tbody tr th {\n",
              "        vertical-align: top;\n",
              "    }\n",
              "\n",
              "    .dataframe thead th {\n",
              "        text-align: right;\n",
              "    }\n",
              "</style>\n",
              "<table border=\"1\" class=\"dataframe\">\n",
              "  <thead>\n",
              "    <tr style=\"text-align: right;\">\n",
              "      <th></th>\n",
              "      <th>Actual Data</th>\n",
              "      <th>Predicted Price</th>\n",
              "      <th>Difference Price</th>\n",
              "    </tr>\n",
              "  </thead>\n",
              "  <tbody>\n",
              "    <tr>\n",
              "      <th>825</th>\n",
              "      <td>13485</td>\n",
              "      <td>11327.650872</td>\n",
              "      <td>-2157.349128</td>\n",
              "    </tr>\n",
              "    <tr>\n",
              "      <th>4211</th>\n",
              "      <td>7795</td>\n",
              "      <td>11000.639393</td>\n",
              "      <td>3205.639393</td>\n",
              "    </tr>\n",
              "    <tr>\n",
              "      <th>1782</th>\n",
              "      <td>19894</td>\n",
              "      <td>16643.227003</td>\n",
              "      <td>-3250.772997</td>\n",
              "    </tr>\n",
              "    <tr>\n",
              "      <th>3450</th>\n",
              "      <td>25000</td>\n",
              "      <td>21900.376108</td>\n",
              "      <td>-3099.623892</td>\n",
              "    </tr>\n",
              "    <tr>\n",
              "      <th>196</th>\n",
              "      <td>15498</td>\n",
              "      <td>15995.166974</td>\n",
              "      <td>497.166974</td>\n",
              "    </tr>\n",
              "  </tbody>\n",
              "</table>\n",
              "</div>"
            ],
            "text/plain": [
              "      Actual Data  Predicted Price  Difference Price\n",
              "825         13485     11327.650872      -2157.349128\n",
              "4211         7795     11000.639393       3205.639393\n",
              "1782        19894     16643.227003      -3250.772997\n",
              "3450        25000     21900.376108      -3099.623892\n",
              "196         15498     15995.166974        497.166974"
            ]
          },
          "metadata": {},
          "execution_count": 53
        }
      ]
    },
    {
      "cell_type": "code",
      "metadata": {
        "colab": {
          "base_uri": "https://localhost:8080/"
        },
        "id": "c4pX7Oog7Sg0",
        "outputId": "4079e514-7108-44b7-e530-38e3e78c7114"
      },
      "source": [
        "RMSE = mean_squared_error(y_test, y_pred_mlr, squared= True)\n",
        "print(\"RMSE : \", RMSE)"
      ],
      "execution_count": 55,
      "outputs": [
        {
          "output_type": "stream",
          "name": "stdout",
          "text": [
            "RMSE :  14439067.295353228\n"
          ]
        }
      ]
    },
    {
      "cell_type": "code",
      "metadata": {
        "id": "ik1JRkW_7XfB"
      },
      "source": [
        ""
      ],
      "execution_count": null,
      "outputs": []
    }
  ]
}